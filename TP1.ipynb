{
  "nbformat": 4,
  "nbformat_minor": 0,
  "metadata": {
    "colab": {
      "provenance": [],
      "authorship_tag": "ABX9TyOMHHLjWVjt+Y7I92wN9fjl",
      "include_colab_link": true
    },
    "kernelspec": {
      "name": "python3",
      "display_name": "Python 3"
    },
    "language_info": {
      "name": "python"
    }
  },
  "cells": [
    {
      "cell_type": "markdown",
      "metadata": {
        "id": "view-in-github",
        "colab_type": "text"
      },
      "source": [
        "<a href=\"https://colab.research.google.com/github/BoutainaHdioud/sas-viya-programming/blob/master/TP1.ipynb\" target=\"_parent\"><img src=\"https://colab.research.google.com/assets/colab-badge.svg\" alt=\"Open In Colab\"/></a>"
      ]
    },
    {
      "cell_type": "markdown",
      "source": [
        "L'objectif de ce premier TP est d'examiner les moyens de lire et d'analyser les données dans les fichiers.\n",
        "\n",
        "\n",
        "# **1.  Lire le fichier texte**\n",
        "\n",
        "---\n",
        "\n",
        "\n",
        "Python prend en charge un certain nombre de bibliothèques standard et personnalisées pour lire des fichiers de tous types dans des variables Python.\n"
      ],
      "metadata": {
        "id": "Riw8V1X97HOn"
      }
    },
    {
      "cell_type": "code",
      "execution_count": null,
      "metadata": {
        "id": "7YJ6h78g69Ft"
      },
      "outputs": [],
      "source": [
        "\n",
        "#Lire le fichier Spark.txt en utilisant une librairie standard de Python\n",
        "\n",
        "#Afficher les 200 premiers caractères du fichier"
      ]
    },
    {
      "cell_type": "markdown",
      "source": [
        "\n",
        "# **2.   Lecture avec NLTK CorpusReader**\n",
        "\n"
      ],
      "metadata": {
        "id": "k_dyWItA85vb"
      }
    },
    {
      "cell_type": "markdown",
      "source": [
        "Lire  le même fichier texte à l'aide d'un CorpusReader\n",
        "\n",
        "NLTK prend en charge plusieurs CorpusReaders selon le type de source de données. Détails disponibles sur http://www.nltk.org/howto/corpus.html"
      ],
      "metadata": {
        "id": "5t0ULIsh9ak9"
      }
    },
    {
      "cell_type": "code",
      "source": [
        "#installez nltk en utilisant \"pip install nltk\"\n",
        "\n",
        "#importer nltk\n",
        "\n",
        "#Télécharger le package punkt\n",
        "\n",
        "# Utilisez PlaintextCorpusReader pour lire le corpus\n",
        "\n",
        "#Afficher le contenu brut du corpus\n"
      ],
      "metadata": {
        "id": "9qqJYzHg9HM-"
      },
      "execution_count": null,
      "outputs": []
    },
    {
      "cell_type": "markdown",
      "source": [
        "\n",
        "# **3.   Explorer le corpus**\n",
        "\n",
        "La bibliothèque de corpus prend en charge un certain nombre de fonctions pour extraire des mots, des paragraphes et des phrases du corpus"
      ],
      "metadata": {
        "id": "mEwOmWmCH1aL"
      }
    },
    {
      "cell_type": "code",
      "source": [
        "#Extraire les ID de fichiers du corpus\n",
        "\n",
        "#Extract paragraphs from the corpus\n",
        "\n",
        "#Extraire des phrases du corpus\n",
        "\n",
        "#Extraire des mots du corpus\n"
      ],
      "metadata": {
        "id": "AJnxn4uWIa0-"
      },
      "execution_count": null,
      "outputs": []
    },
    {
      "cell_type": "markdown",
      "source": [
        "\n",
        "# **4.   Analyser le corpus**\n",
        "\n",
        "La bibliothèque NLTK fournit un certain nombre de fonctions pour analyser les distributions et les agrégats des données du corpus."
      ],
      "metadata": {
        "id": "jme_mXvGKUoT"
      }
    },
    {
      "cell_type": "code",
      "source": [
        "#Trouver la distribution de fréquence des mots dans le corpus\n",
        "\n",
        "\n",
        "#Afficher les mots les plus couramment utilisés\n",
        "\n",
        "\n",
        "#Trouver la distribution d'un mot spécifique"
      ],
      "metadata": {
        "id": "SVNcjjJEKogq"
      },
      "execution_count": null,
      "outputs": []
    }
  ]
}